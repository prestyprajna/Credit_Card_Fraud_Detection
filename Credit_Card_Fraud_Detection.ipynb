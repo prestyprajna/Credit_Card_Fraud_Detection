{
  "nbformat": 4,
  "nbformat_minor": 0,
  "metadata": {
    "colab": {
      "name": "Credit_Card_Fraud_Detection.ipynb",
      "provenance": [],
      "collapsed_sections": [],
      "include_colab_link": true
    },
    "kernelspec": {
      "name": "python3",
      "display_name": "Python 3"
    }
  },
  "cells": [
    {
      "cell_type": "markdown",
      "metadata": {
        "id": "view-in-github",
        "colab_type": "text"
      },
      "source": [
        "<a href=\"https://colab.research.google.com/github/prestyprajna/Credit_Card_Fraud_Detection/blob/master/Credit_Card_Fraud_Detection.ipynb\" target=\"_parent\"><img src=\"https://colab.research.google.com/assets/colab-badge.svg\" alt=\"Open In Colab\"/></a>"
      ]
    },
    {
      "cell_type": "code",
      "metadata": {
        "id": "PWix5I-VkMOd",
        "colab_type": "code",
        "colab": {}
      },
      "source": [
        "import matplotlib.pyplot as plt   \n",
        "%matplotlib inline\n",
        "\n",
        "#import the necessary module\n",
        "from sklearn import preprocessing\n",
        "# create the Labelencoder object\n",
        "le = preprocessing.LabelEncoder()\n",
        "#convert the categorical columns into numeric\n",
        "df2['Country'] = le.fit_transform(df2['Country'])\n",
        "df2['Transaction_Amount'] = le.fit_transform(df2['Transaction_Amount'])\n",
        "df2['Transaction_Time'] = le.fit_transform(df2['Transaction_Time'])\n",
        "df2['Transaction_Date_And_Time'] = le.fit_transform(df2['Transaction_Date_And_Time'])\n",
        "df2['Target'] = le.fit_transform(df2['Target'])\n",
        "\n",
        "#display the initial records\n",
        "#df2.head(n=15)"
      ],
      "execution_count": 0,
      "outputs": []
    },
    {
      "cell_type": "code",
      "metadata": {
        "id": "9zpfR3_RkUmp",
        "colab_type": "code",
        "colab": {}
      },
      "source": [
        "first  = df2.loc[df2['Target'] == 0]  #used to select rows whose Target value is 0\n",
        "second = df2.loc[df2['Target'] == 1]  #used to select rows whose Target value is 1\n",
        "\n",
        "\n",
        "# select needed columns \n",
        "cols = [col for col in df2.columns if col not in ['Target','Transaction_Date']]\n",
        "\n",
        "# dropping the 'Target' column\n",
        "data = df2[cols]\n",
        "\n",
        "#assigning the Target column as target\n",
        "target = df2['Target']\n",
        "#data.head(n=2)"
      ],
      "execution_count": 0,
      "outputs": []
    },
    {
      "cell_type": "code",
      "metadata": {
        "id": "6FP0wLLqkbAE",
        "colab_type": "code",
        "colab": {
          "base_uri": "https://localhost:8080/",
          "height": 296
        },
        "outputId": "e55f8d8f-11c4-4dec-de4c-c7c7ca537150"
      },
      "source": [
        "import matplotlib.pyplot as plt\n",
        "%matplotlib inline\n",
        "plt.xlabel('TransactionDateAndTime')\n",
        "plt.ylabel('Country')\n",
        "plt.scatter(first['Transaction_Date_And_Time'], first['Country'],color=\"green\",marker='+')\n",
        "plt.scatter(second['Transaction_Date_And_Time'], second['Country'],color=\"blue\",marker='.')"
      ],
      "execution_count": 46,
      "outputs": [
        {
          "output_type": "execute_result",
          "data": {
            "text/plain": [
              "<matplotlib.collections.PathCollection at 0x7f6c9e5d3080>"
            ]
          },
          "metadata": {
            "tags": []
          },
          "execution_count": 46
        },
        {
          "output_type": "display_data",
          "data": {
            "image/png": "[encoded data removed]",
            "text/plain": [
              "<Figure size 432x288 with 1 Axes>"
            ]
          },
          "metadata": {
            "tags": []
          }
        }
      ]
    },
    {
      "cell_type": "code",
      "metadata": {
        "id": "bNJlF4WRkeIK",
        "colab_type": "code",
        "colab": {
          "base_uri": "https://localhost:8080/",
          "height": 258
        },
        "outputId": "57b60bcb-7f21-47f4-8aed-32a52d182566"
      },
      "source": [
        "#NON LINEAR SVC\n",
        "\n",
        "\n",
        "from sklearn.svm import SVC\n",
        "from sklearn.model_selection import train_test_split\n",
        "from sklearn.metrics import accuracy_score\n",
        "from sklearn.metrics import f1_score\n",
        "from sklearn.metrics import recall_score\n",
        "from sklearn.metrics import precision_score\n",
        "from sklearn.model_selection import GridSearchCV\n",
        "from sklearn.preprocessing import MinMaxScaler\n",
        "from sklearn.metrics import confusion_matrix\n",
        "# Attributes that will be used by the gridsearchCV algorithm \n",
        "attr={'C': [0.1, 1, 2, 5, 10, 25, 50, 100],\n",
        "      'gamma': [1e-1, 1e-2, 1e-3]\n",
        "     }\n",
        "\n",
        "X_train, X_test, y_train, y_test = train_test_split(data, target.ravel(), test_size=0.4,random_state=10)\n",
        "#X_train, X_test, y_train, y_test = train_test_split(data, target.ravel(), test_size=0.4)\n",
        "model = SVC()\n",
        "classif = GridSearchCV(model, attr, cv=5)\n",
        "classif.fit(X_train, y_train)"
      ],
      "execution_count": 48,
      "outputs": [
        {
          "output_type": "stream",
          "text": [
            "/usr/local/lib/python3.6/dist-packages/sklearn/model_selection/_search.py:814: DeprecationWarning: The default of the `iid` parameter will change from True to False in version 0.22 and will be removed in 0.24. This will change numeric results when test-set sizes are unequal.\n",
            "  DeprecationWarning)\n"
          ],
          "name": "stderr"
        },
        {
          "output_type": "execute_result",
          "data": {
            "text/plain": [
              "GridSearchCV(cv=5, error_score='raise-deprecating',\n",
              "             estimator=SVC(C=1.0, cache_size=200, class_weight=None, coef0=0.0,\n",
              "                           decision_function_shape='ovr', degree=3,\n",
              "                           gamma='auto_deprecated', kernel='rbf', max_iter=-1,\n",
              "                           probability=False, random_state=None, shrinking=True,\n",
              "                           tol=0.001, verbose=False),\n",
              "             iid='warn', n_jobs=None,\n",
              "             param_grid={'C': [0.1, 1, 2, 5, 10, 25, 50, 100],\n",
              "                         'gamma': [0.1, 0.01, 0.001]},\n",
              "             pre_dispatch='2*n_jobs', refit=True, return_train_score=False,\n",
              "             scoring=None, verbose=0)"
            ]
          },
          "metadata": {
            "tags": []
          },
          "execution_count": 48
        }
      ]
    },
    {
      "cell_type": "code",
      "metadata": {
        "id": "3RfcojPckyj0",
        "colab_type": "code",
        "colab": {
          "base_uri": "https://localhost:8080/",
          "height": 85
        },
        "outputId": "776e73d6-94d5-46d9-8acf-24deb0427e07"
      },
      "source": [
        "y_pred = classif.predict(X_test)\n",
        "\n",
        "print ('Accuracy:', accuracy_score(y_test, y_pred))\n",
        "print ('Precision:', precision_score(y_test, y_pred,average='weighted'))                                   \n",
        "print ('Recall:', recall_score(y_test, y_pred,average='weighted'))\n",
        "print ('F1 score:', f1_score(y_test, y_pred,average='weighted'))"
      ],
      "execution_count": 49,
      "outputs": [
        {
          "output_type": "stream",
          "text": [
            "Accuracy: 0.875\n",
            "Precision: 0.9642857142857142\n",
            "Recall: 0.875\n",
            "F1 score: 0.905320813771518\n"
          ],
          "name": "stdout"
        }
      ]
    },
    {
      "cell_type": "code",
      "metadata": {
        "id": "x09_USUdkqlD",
        "colab_type": "code",
        "colab": {
          "base_uri": "https://localhost:8080/",
          "height": 156
        },
        "outputId": "db87f7a2-9a27-47c6-e63a-797387f4a134"
      },
      "source": [
        "#LOGISTIC REGRESSION\n",
        "from sklearn.linear_model import LogisticRegression\n",
        "\n",
        "#Make an instance of the Model\n",
        "logisticRegr = LogisticRegression()\n",
        "\n",
        "#Training the model on the data, storing the information learned from the data\n",
        "#Model is learning the relationship\n",
        "logisticRegr.fit(X_train, y_train)"
      ],
      "execution_count": 50,
      "outputs": [
        {
          "output_type": "stream",
          "text": [
            "/usr/local/lib/python3.6/dist-packages/sklearn/linear_model/logistic.py:432: FutureWarning: Default solver will be changed to 'lbfgs' in 0.22. Specify a solver to silence this warning.\n",
            "  FutureWarning)\n"
          ],
          "name": "stderr"
        },
        {
          "output_type": "execute_result",
          "data": {
            "text/plain": [
              "LogisticRegression(C=1.0, class_weight=None, dual=False, fit_intercept=True,\n",
              "                   intercept_scaling=1, l1_ratio=None, max_iter=100,\n",
              "                   multi_class='warn', n_jobs=None, penalty='l2',\n",
              "                   random_state=None, solver='warn', tol=0.0001, verbose=0,\n",
              "                   warm_start=False)"
            ]
          },
          "metadata": {
            "tags": []
          },
          "execution_count": 50
        }
      ]
    },
    {
      "cell_type": "code",
      "metadata": {
        "id": "l7VHfE6yk5rT",
        "colab_type": "code",
        "colab": {
          "base_uri": "https://localhost:8080/",
          "height": 173
        },
        "outputId": "beb12469-a901-49f1-a525-91d2eeb89e1b"
      },
      "source": [
        "y_pred = logisticRegr.predict(X_test)\n",
        "\n",
        "print ('Accuracy:', accuracy_score(y_test, y_pred))\n",
        "print ('Precision:', precision_score(y_test, y_pred,average='weighted'))                                   \n",
        "print ('Recall:', recall_score(y_test, y_pred,average='weighted'))\n",
        "print ('F1 score:', f1_score(y_test, y_pred,average='weighted'))"
      ],
      "execution_count": 51,
      "outputs": [
        {
          "output_type": "stream",
          "text": [
            "Accuracy: 0.95\n",
            "Precision: 0.9025000000000001\n",
            "Recall: 0.95\n",
            "F1 score: 0.9256410256410256\n"
          ],
          "name": "stdout"
        },
        {
          "output_type": "stream",
          "text": [
            "/usr/local/lib/python3.6/dist-packages/sklearn/metrics/classification.py:1437: UndefinedMetricWarning: Precision is ill-defined and being set to 0.0 in labels with no predicted samples.\n",
            "  'precision', 'predicted', average, warn_for)\n",
            "/usr/local/lib/python3.6/dist-packages/sklearn/metrics/classification.py:1437: UndefinedMetricWarning: F-score is ill-defined and being set to 0.0 in labels with no predicted samples.\n",
            "  'precision', 'predicted', average, warn_for)\n"
          ],
          "name": "stderr"
        }
      ]
    },
    {
      "cell_type": "code",
      "metadata": {
        "id": "EUii83R8k8t9",
        "colab_type": "code",
        "colab": {
          "base_uri": "https://localhost:8080/",
          "height": 136
        },
        "outputId": "5cc73b52-1097-420a-cdbe-6cdfe9b27ba4"
      },
      "source": [
        "#RANDOM FOREST\n",
        "from sklearn.ensemble import RandomForestClassifier\n",
        "model = RandomForestClassifier(n_estimators=20)\n",
        "model.fit(X_train, y_train)"
      ],
      "execution_count": 54,
      "outputs": [
        {
          "output_type": "execute_result",
          "data": {
            "text/plain": [
              "RandomForestClassifier(bootstrap=True, class_weight=None, criterion='gini',\n",
              "                       max_depth=None, max_features='auto', max_leaf_nodes=None,\n",
              "                       min_impurity_decrease=0.0, min_impurity_split=None,\n",
              "                       min_samples_leaf=1, min_samples_split=2,\n",
              "                       min_weight_fraction_leaf=0.0, n_estimators=20,\n",
              "                       n_jobs=None, oob_score=False, random_state=None,\n",
              "                       verbose=0, warm_start=False)"
            ]
          },
          "metadata": {
            "tags": []
          },
          "execution_count": 54
        }
      ]
    },
    {
      "cell_type": "code",
      "metadata": {
        "id": "fkRslkxtk-4e",
        "colab_type": "code",
        "colab": {
          "base_uri": "https://localhost:8080/",
          "height": 85
        },
        "outputId": "babc61a0-4e5c-48b3-9518-0fab748dcc99"
      },
      "source": [
        "#model.score(X_test, y_test)\n",
        "y_pred = model.predict(X_test)\n",
        "\n",
        "print ('Accuracy:', accuracy_score(y_test, y_pred))\n",
        "print ('Precision:', precision_score(y_test, y_pred,average='weighted'))                                   \n",
        "print ('Recall:', recall_score(y_test, y_pred,average='weighted'))\n",
        "print ('F1 score:', f1_score(y_test, y_pred,average='weighted'))"
      ],
      "execution_count": 55,
      "outputs": [
        {
          "output_type": "stream",
          "text": [
            "Accuracy: 0.975\n",
            "Precision: 0.9833333333333334\n",
            "Recall: 0.975\n",
            "F1 score: 0.9773333333333334\n"
          ],
          "name": "stdout"
        }
      ]
    }
  ]
}